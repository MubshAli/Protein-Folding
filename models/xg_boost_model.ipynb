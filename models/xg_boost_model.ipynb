{
 "cells": [
  {
   "cell_type": "code",
   "execution_count": 1,
   "metadata": {},
   "outputs": [],
   "source": [
    "import pandas as pd"
   ]
  },
  {
   "cell_type": "code",
   "execution_count": 13,
   "metadata": {},
   "outputs": [
    {
     "name": "stdout",
     "output_type": "stream",
     "text": [
      "[17:04:31] WARNING: /Users/travis/build/dmlc/xgboost/src/learner.cc:1061: Starting in XGBoost 1.3.0, the default evaluation metric used with the objective 'multi:softprob' was changed from 'merror' to 'mlogloss'. Explicitly set eval_metric if you'd like to restore the old behavior.\n"
     ]
    },
    {
     "name": "stderr",
     "output_type": "stream",
     "text": [
      "/Users/adamyuan/miniconda3/lib/python3.7/site-packages/xgboost/sklearn.py:888: UserWarning: The use of label encoder in XGBClassifier is deprecated and will be removed in a future release. To remove this warning, do the following: 1) Pass option use_label_encoder=False when constructing XGBClassifier object; and 2) Encode your labels (y) as integers starting with 0, i.e. 0, 1, 2, ..., [num_class - 1].\n",
      "  warnings.warn(label_encoder_deprecation_msg, UserWarning)\n"
     ]
    }
   ],
   "source": [
    "train_selected = pd.read_csv('./Stat441_KaggleProject/train_selected_adam.csv')\n",
    "test_selected = pd.read_csv('./Stat441_KaggleProject/test_selected_adam.csv')\n",
    "from sklearn.model_selection import train_test_split\n",
    "train, valid = train_test_split(train_selected, test_size=0.2)\n",
    "import xgboost as xgb\n",
    "from sklearn.metrics import mean_squared_error\n",
    "X_train_xg = train.drop(['label', 'protein'], axis=1)\n",
    "Y_train_xg = train['label']\n",
    "X_valid = valid.drop(['label', 'protein'], axis=1)\n",
    "Y_valid = valid['label']\n",
    "xg_reg = xgb.XGBClassifier(objective = 'multi:softprob', colsample_bytree = 0.3, learning_rate = 0.8,\n",
    "                max_depth = 5, alpha = 10, n_estimators = 10, num_class=15)\n",
    "xg_reg.fit(X_train_xg, Y_train_xg)\n",
    "valid_preds = xg_reg.predict(X_valid)\n",
    "test_preds = xg_reg.predict(test_selected.drop('protein', axis=1))"
   ]
  },
  {
   "cell_type": "code",
   "execution_count": 14,
   "metadata": {},
   "outputs": [
    {
     "data": {
      "text/plain": [
       "0.6692015209125475"
      ]
     },
     "execution_count": 14,
     "metadata": {},
     "output_type": "execute_result"
    }
   ],
   "source": [
    "(valid_preds == Y_valid).sum() / len(valid_preds)"
   ]
  },
  {
   "cell_type": "code",
   "execution_count": 17,
   "metadata": {},
   "outputs": [],
   "source": [
    "valid_preds_labeled = pd.DataFrame(valid_preds, columns = ['label'])\n",
    "valid_preds_labeled['protein'] = valid['protein'].values\n",
    "valid_preds_grouped = valid_preds_labeled.groupby('protein').agg(lambda x:x.value_counts().index[0])\n",
    "\n",
    "Y_valid_labeled = pd.DataFrame(Y_valid, columns = ['label'])\n",
    "Y_valid_labeled['protein'] = valid['protein'].values\n",
    "Y_valid_grouped = Y_valid_labeled.groupby('protein').agg(lambda x:x.value_counts().index[0])\n",
    "\n",
    "\n",
    "test_preds_labeled = pd.DataFrame(test_preds, columns = ['label'])\n",
    "test_preds_labeled['protein'] = test_selected['protein'].values\n",
    "test_preds_grouped = test_preds_labeled.groupby('protein').agg(lambda x:x.value_counts().index[0])"
   ]
  },
  {
   "cell_type": "code",
   "execution_count": 18,
   "metadata": {},
   "outputs": [
    {
     "data": {
      "text/plain": [
       "0.6359649122807017"
      ]
     },
     "execution_count": 18,
     "metadata": {},
     "output_type": "execute_result"
    }
   ],
   "source": [
    "float((valid_preds_grouped == Y_valid_grouped).sum() / len(valid_preds_grouped))"
   ]
  },
  {
   "cell_type": "code",
   "execution_count": 21,
   "metadata": {},
   "outputs": [
    {
     "data": {
      "text/plain": [
       "0    120\n",
       "1     79\n",
       "3     19\n",
       "6      5\n",
       "2      5\n",
       "Name: label, dtype: int64"
      ]
     },
     "execution_count": 21,
     "metadata": {},
     "output_type": "execute_result"
    }
   ],
   "source": [
    "valid_preds_grouped['label'].value_counts()"
   ]
  }
 ],
 "metadata": {
  "kernelspec": {
   "display_name": "Python 3",
   "language": "python",
   "name": "python3"
  },
  "language_info": {
   "codemirror_mode": {
    "name": "ipython",
    "version": 3
   },
   "file_extension": ".py",
   "mimetype": "text/x-python",
   "name": "python",
   "nbconvert_exporter": "python",
   "pygments_lexer": "ipython3",
   "version": "3.7.7"
  }
 },
 "nbformat": 4,
 "nbformat_minor": 4
}
