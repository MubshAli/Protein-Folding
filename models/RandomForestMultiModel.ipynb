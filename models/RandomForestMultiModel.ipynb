{
 "cells": [
  {
   "cell_type": "code",
   "execution_count": 98,
   "metadata": {},
   "outputs": [],
   "source": [
    "train = read.csv('./Stat441_KaggleProject/train_selected_adam.csv', header=TRUE)\n",
    "test = read.csv('./Stat441_KaggleProject/test_selected_adam.csv', header=TRUE)\n",
    "\n",
    "train$essential[train$essential == 0] <- 1\n",
    "test$essential[test$essential == 0] <- 3\n",
    "test$essential[test$essential == 1] <- 2\n",
    "test$essential[test$essential == 2] <- 1\n",
    "test$essential[test$essential == 3] <- 2\n",
    "train$d1 <- sapply(train$label, function(x) {if (x == 0) {x} else {1} })\n",
    " \n",
    "\n",
    "\n",
    "cont_cols = c(sapply(seq(45, 57), function(x) {paste(\"X4\", toString(x), sep='')}), 'correlation', 'protein', 'chromosome')\n",
    "# binary_cols = c('X94','X95','X96','X97','X298', 'X307', 'X342')\n",
    "# num_cols = c(cont_cols, binary_cols)\n",
    "num_cols = c(cont_cols)\n",
    "train[, !names(train) %in% num_cols] <- lapply(train[, !names(train) %in% num_cols], as.factor)\n",
    "test[, !names(test) %in% num_cols] <- lapply(test[, !names(test) %in% num_cols], as.factor)\n",
    "# train$binarysum <- rowSums(train[binary_cols])\n",
    "# train <- train[, !names(train) %in% binary_cols]\n",
    "# test$binarysum <- rowSums(test[binary_cols])\n",
    "# test <- test[, !names(test) %in% binary_cols]\n",
    "\n",
    "train_size <- floor(0.7 * nrow(train))\n",
    "train_ind <- sample(seq_len(nrow(train)), size = train_size, replace = FALSE)\n",
    "valid_ind <- seq_len(nrow(train))[-train_ind]\n",
    "train_ind <- sample(seq_len(length(train_ind)), size = floor(3 * train_size), replace = TRUE)\n",
    "train_df <- train[train_ind, ]\n",
    "valid_df <- train[valid_ind, ]\n",
    "train_df$label <- factor(train_df$label)"
   ]
  },
  {
   "cell_type": "code",
   "execution_count": 107,
   "metadata": {},
   "outputs": [],
   "source": [
    "library(randomForest)\n",
    "rf_clf_d1 <-  randomForest(d1 ~ . - protein - label, data = train_df, ntrees=5000)"
   ]
  },
  {
   "cell_type": "code",
   "execution_count": 127,
   "metadata": {},
   "outputs": [
    {
     "data": {
      "text/html": [
       "0.944162436548223"
      ],
      "text/latex": [
       "0.944162436548223"
      ],
      "text/markdown": [
       "0.944162436548223"
      ],
      "text/plain": [
       "[1] 0.9441624"
      ]
     },
     "metadata": {},
     "output_type": "display_data"
    }
   ],
   "source": [
    "valid_preds_d1 <- predict(rf_clf_d1, valid_df)\n",
    "valid_preds_d1 <- factor(valid_preds_d1, levels=levels(valid_df$d1))\n",
    "valid_l <- valid_preds_d1 == valid_df$d1\n",
    "sum(valid_l) / length(valid_l)"
   ]
  },
  {
   "cell_type": "code",
   "execution_count": 110,
   "metadata": {},
   "outputs": [
    {
     "data": {
      "text/plain": [
       "test_preds_d1\n",
       "        0         1 \n",
       "0.3952607 0.6047393 "
      ]
     },
     "metadata": {},
     "output_type": "display_data"
    }
   ],
   "source": [
    "for (i in colnames(test)){\n",
    "    n1 = levels(test[, i])\n",
    "    n2 = levels(train[, i])\n",
    "    if (length(n1) != length(n2) || sum(n1 != n2)){\n",
    "#         print(i)\n",
    "#         print(levels(test[, i]))\n",
    "#         print(levels(train[, i]))\n",
    "        test[, i] <- factor(test[, i], levels = levels(train[, i]))\n",
    "    }\n",
    "}\n",
    "test$label = 'a'\n",
    "test_preds_d1 <- predict(rf_clf_d1, test)\n",
    "test$d1 <- test_preds_d1\n",
    "table(test_preds_d1) / length(test_preds_d1)"
   ]
  },
  {
   "cell_type": "code",
   "execution_count": 137,
   "metadata": {},
   "outputs": [
    {
     "data": {
      "text/plain": [
       "\n",
       "  1   2   3   4   5   6   7   8   9  10  11  13 \n",
       "637 142 212 145 132 129  34  27  24   1   8   2 "
      ]
     },
     "metadata": {},
     "output_type": "display_data"
    }
   ],
   "source": [
    "train_df_2 = train_df[train_df$label != 0, ]\n",
    "valid_df_2 = valid_df[valid_df$label != 0, ]\n",
    "train_df_2$label = factor(train_df_2$label)\n",
    "valid_df_2$label = factor(valid_df_2$label)\n",
    "table(train_df_2$label)"
   ]
  },
  {
   "cell_type": "code",
   "execution_count": 138,
   "metadata": {},
   "outputs": [],
   "source": [
    "rf_clf_d2 <-  randomForest(label ~ . - protein - d1, data = train_df_2, ntrees=5000)"
   ]
  },
  {
   "cell_type": "code",
   "execution_count": 144,
   "metadata": {},
   "outputs": [
    {
     "data": {
      "text/html": [
       "0.836448598130841"
      ],
      "text/latex": [
       "0.836448598130841"
      ],
      "text/markdown": [
       "0.836448598130841"
      ],
      "text/plain": [
       "[1] 0.8364486"
      ]
     },
     "metadata": {},
     "output_type": "display_data"
    }
   ],
   "source": [
    "valid_preds_d2 <- predict(rf_clf_d2, valid_df_2)\n",
    "valid_preds_d2 <- factor(valid_preds_d2, levels=levels(valid_df_2$label))\n",
    "valid_l_2 <- valid_preds_d2 == valid_df_2$label\n",
    "sum(valid_l_2) / length(valid_l_2)"
   ]
  },
  {
   "cell_type": "code",
   "execution_count": 154,
   "metadata": {},
   "outputs": [
    {
     "data": {
      "text/plain": [
       "\n",
       "          0           1           2           3           4           5 \n",
       "0.395260664 0.377251185 0.019905213 0.128909953 0.005687204 0.008530806 \n",
       "          6           8 \n",
       "0.048341232 0.016113744 "
      ]
     },
     "metadata": {},
     "output_type": "display_data"
    }
   ],
   "source": [
    "test_2 = test[test$d1 == 1, ]\n",
    "test_2$label = predict(rf_clf_d2, test_2)\n",
    "test_1 = test[test$d1 == 0, ]\n",
    "test_1$label = 0\n",
    "test = rbind(test_1, test_2)\n",
    "table(test$label) / length(test$label)"
   ]
  },
  {
   "cell_type": "code",
   "execution_count": null,
   "metadata": {},
   "outputs": [],
   "source": []
  },
  {
   "cell_type": "code",
   "execution_count": 155,
   "metadata": {},
   "outputs": [
    {
     "data": {
      "text/plain": [
       "\n",
       "          0           1           2           3           4           5 \n",
       "0.367454068 0.469816273 0.039370079 0.073490814 0.007874016 0.013123360 \n",
       "          6           8 \n",
       "0.013123360 0.015748031 "
      ]
     },
     "metadata": {},
     "output_type": "display_data"
    }
   ],
   "source": [
    "result <- data.frame(\"protein\" = test$protein, \"label\" = test$label)\n",
    "result_agg <- aggregate(result,\n",
    "                by = list(result$protein),\n",
    "                FUN = function(x) tail(names(sort(table(x))), 1))\n",
    "result_agg <- data.frame(\"protein\" = result_agg$protein, \"label\" = result_agg$label)\n",
    "table(result_agg$label) / length(result_agg$label)"
   ]
  },
  {
   "cell_type": "code",
   "execution_count": null,
   "metadata": {},
   "outputs": [],
   "source": []
  },
  {
   "cell_type": "code",
   "execution_count": 157,
   "metadata": {},
   "outputs": [],
   "source": [
    "colnames(result_agg) <- c('Key', 'Label')\n",
    "write.csv(result_agg,'./result_Mar31_2.csv', row.names = FALSE, quote=FALSE)"
   ]
  }
 ],
 "metadata": {
  "kernelspec": {
   "display_name": "R",
   "language": "R",
   "name": "ir"
  },
  "language_info": {
   "codemirror_mode": "r",
   "file_extension": ".r",
   "mimetype": "text/x-r-source",
   "name": "R",
   "pygments_lexer": "r",
   "version": "4.0.2"
  }
 },
 "nbformat": 4,
 "nbformat_minor": 4
}
