{
 "cells": [
  {
   "cell_type": "code",
   "execution_count": 6,
   "metadata": {},
   "outputs": [],
   "source": [
    "import pandas as pd\n",
    "import numpy as np"
   ]
  },
  {
   "cell_type": "code",
   "execution_count": 144,
   "metadata": {},
   "outputs": [],
   "source": [
    "def prep_data(path, mode = \"train\"):\n",
    "    raw_data = pd.read_csv(path, header=None, \n",
    "                        keep_default_na=True, na_values='?',\n",
    "                        na_filter=True, dtype={444 : str})\n",
    "    # 460th to 2945th columns are encoded in protein_interactions.csv\n",
    "    protein_interactions_cols = list(range(459, 2945))\n",
    "    \n",
    "    reduced_data = raw_data.drop(raw_data.columns[protein_interactions_cols], axis = 1)\n",
    "    reduced_data = reduced_data.T.reset_index(drop=True).T\n",
    "\n",
    "    cleaned_data = reduced_data\n",
    "    cleaned_rows, cleaned_columns = cleaned_data.shape\n",
    "    rename_dict = {0 : \"protein\", 1 : \"essential\", 444 : \"chromosome\",\n",
    "                   cleaned_columns - 1 : \"label\", cleaned_columns - 2 : \"localization\"}\n",
    "    if (mode != 'train'):\n",
    "        rename_dict = {0 : \"protein\", 1 : \"essential\", 444 : \"chromosome\",\n",
    "                        cleaned_columns - 1 : \"localization\"}\n",
    "    cleaned_data = cleaned_data.rename(rename_dict, axis = 1)\n",
    "    # 444 to 457 are continuous variables\n",
    "    for i in range(444, 458):\n",
    "        name = i + 1\n",
    "        cleaned_data[name] = pd.Series(cleaned_data[name], dtype = float)\n",
    "    if (mode == 'train'):\n",
    "        X = cleaned_data.drop([\"label\", \"protein\"], axis=1)  \n",
    "        Y = cleaned_data[\"label\"]\n",
    "    else:\n",
    "        X = cleaned_data.drop([\"protein\"], axis=1) \n",
    "        Y = None\n",
    "    X[\"protein\"] = cleaned_data[\"protein\"]\n",
    "    X = X.drop(list(range(458, X.shape[1] - 1)), axis=1)\n",
    "    X = X.drop('localization', axis=1)\n",
    "    return (X, Y)"
   ]
  },
  {
   "cell_type": "code",
   "execution_count": 145,
   "metadata": {},
   "outputs": [],
   "source": [
    "train_X, train_Y = prep_data(\"./train.csv\", mode = 'train')\n",
    "test_X = prep_data(\"./test.csv\", mode = 'test')[0]"
   ]
  },
  {
   "cell_type": "code",
   "execution_count": 146,
   "metadata": {},
   "outputs": [],
   "source": [
    "train_X = train_X.fillna({'essential' : 'Non-Essential', 'chromosome' : '4'})\n",
    "test_X = test_X.fillna({'essential' : 'Non-Essential', 'chromosome' : '4'})"
   ]
  },
  {
   "cell_type": "code",
   "execution_count": 147,
   "metadata": {},
   "outputs": [],
   "source": [
    "# Study potential relationship in protein_interactions\n",
    "protein_interactions = pd.read_csv('./protein_interactions.csv', header=None, na_values = '?.',\n",
    "                                   names = ('protein1', 'protein2', 'type', 'correlation'),\n",
    "                                  dtype = {'correlation' : str})\n",
    "# Trim the dot at the end of correlation and convert it to float\n",
    "protein_interactions['correlation'] = protein_interactions['correlation'].apply(\n",
    "                            lambda x : float(x[:-1]) \n",
    "                                       if str(x)[-1] == '.' \n",
    "                                        else float(x))\n",
    "\n",
    "test_protein_interactions = pd.read_csv('./test_protein_interactions.csv', na_values = '?')"
   ]
  },
  {
   "cell_type": "code",
   "execution_count": 148,
   "metadata": {},
   "outputs": [],
   "source": [
    "# Next: incorporate the protein_interaction relation back to the dataframe\n",
    "train_X['label'] = train_Y\n",
    "def join_protein_interaction(df, protein_interaction):\n",
    "    pro1_train = pd.merge(df, protein_interaction, left_on = 'protein', right_on = 'protein1', how='left')\n",
    "    pro2_train = train_X[['protein', 'essential', 'chromosome']]\n",
    "    protein_train = pd.merge(pro1_train, pro2_train, \n",
    "                         left_on = 'protein2', right_on = 'protein', how = 'left',\n",
    "                         suffixes = ['', '_interact'])\n",
    "    return protein_train"
   ]
  },
  {
   "cell_type": "code",
   "execution_count": 149,
   "metadata": {},
   "outputs": [],
   "source": [
    "# join protein_interactions\n",
    "train_X_inter = join_protein_interaction(train_X, protein_interactions).drop(['protein1', 'protein2', 'protein_interact'], axis=1)\n",
    "test_X_inter = join_protein_interaction(test_X, test_protein_interactions).drop(['protein1', 'protein2', 'protein_interact'], axis=1)"
   ]
  },
  {
   "cell_type": "code",
   "execution_count": 150,
   "metadata": {},
   "outputs": [],
   "source": [
    "train_X_inter = train_X_inter[['protein', 'type', 'correlation', 'essential_interact', 'chromosome_interact']].fillna({'type' : 'No', 'correlation' : 0, 'essential_interact' : 'No', 'chromosome_interact' : 'No'})\n",
    "test_X_inter = test_X_inter[['protein', 'type', 'correlation', 'essential_interact', 'chromosome_interact']].fillna({'type' : 'No', 'correlation' : 0, 'essential_interact' : 'No', 'chromosome_interact' : 'No'})"
   ]
  },
  {
   "cell_type": "code",
   "execution_count": 151,
   "metadata": {},
   "outputs": [],
   "source": [
    "agg_mode = lambda x: pd.Series.mode(x)[0]\n",
    "train_X_agg = train_X_inter.groupby('protein').agg(type=('type', agg_mode), correlation=('correlation', np.mean), essential_interact=('essential_interact', agg_mode), chromosome_interact=('chromosome_interact', agg_mode))\n",
    "test_X_agg = test_X_inter.groupby('protein').agg(type=('type', agg_mode), correlation=('correlation', np.mean), essential_interact=('essential_interact', agg_mode), chromosome_interact=('chromosome_interact', agg_mode))"
   ]
  },
  {
   "cell_type": "code",
   "execution_count": 152,
   "metadata": {},
   "outputs": [],
   "source": [
    "train_X_final = pd.merge(train_X, train_X_agg, left_on = 'protein', right_on = 'protein')\n",
    "test_X_final = pd.merge(test_X, test_X_agg, left_on = 'protein', right_on = 'protein')"
   ]
  },
  {
   "cell_type": "code",
   "execution_count": 155,
   "metadata": {},
   "outputs": [],
   "source": [
    "train_X_final.to_csv('./train_cleaned.csv', index=False)\n",
    "test_X_final.to_csv('./test_cleaned.csv', index=False)"
   ]
  },
  {
   "cell_type": "code",
   "execution_count": null,
   "metadata": {},
   "outputs": [],
   "source": []
  }
 ],
 "metadata": {
  "kernelspec": {
   "display_name": "Python 3",
   "language": "python",
   "name": "python3"
  },
  "language_info": {
   "codemirror_mode": {
    "name": "ipython",
    "version": 3
   },
   "file_extension": ".py",
   "mimetype": "text/x-python",
   "name": "python",
   "nbconvert_exporter": "python",
   "pygments_lexer": "ipython3",
   "version": "3.7.7"
  }
 },
 "nbformat": 4,
 "nbformat_minor": 4
}
