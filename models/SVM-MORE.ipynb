{
 "cells": [
  {
   "cell_type": "code",
   "execution_count": 20,
   "metadata": {},
   "outputs": [],
   "source": [
    "train <- read.csv('./train_cleaned.csv')\n",
    "test <- read.csv('./test_cleaned.csv')\n",
    "train_selected <- train\n",
    "test_selected <- test\n",
    "train_selected$chromosome_interact <- NULL\n",
    "\n",
    "\n",
    "test_selected$protein <- test$protein\n",
    "test_selected$X82 = NULL\n",
    "test_selected$chromosome_interact <- NULL\n",
    "\n",
    "test_selected$essential[test_selected$essential == 'Ambiguous-Non-Essential'] = 'Non-Essential'\n",
    "test_selected$essential_interact[test_selected$essential_interact == 'Ambiguous-Essential'] = 'Essential'\n",
    "\n",
    "character_vars_s <- lapply(train_selected, class) == \"character\"\n",
    "train_selected[, character_vars_s] <- lapply(train_selected[, character_vars_s], factor)\n",
    "character_vars_t <- lapply(test_selected, class) == \"character\"\n",
    "test_selected[, character_vars_t] <- lapply(test_selected[, character_vars_t], factor)\n",
    "\n",
    "for (i in colnames(test_selected)){\n",
    "    if (i == 'protein'){\n",
    "        next\n",
    "    }\n",
    "    n1 = length(levels(test_selected[, i]))\n",
    "    n2 = length(levels(test_selected[, i]))\n",
    "    if (n1 == 1 || n1 != n2){\n",
    "        test_selected[, i] = NULL\n",
    "        train_selected[, i] = NULL\n",
    "    } \n",
    "}"
   ]
  },
  {
   "cell_type": "code",
   "execution_count": 21,
   "metadata": {},
   "outputs": [],
   "source": [
    "library(randomForest)\n",
    "rf.clf.label <- randomForest(label ~ . - protein, data=train_selected)"
   ]
  },
  {
   "cell_type": "code",
   "execution_count": 42,
   "metadata": {},
   "outputs": [],
   "source": [
    "var.imp <- importance(rf.clf.label)\n",
    "var.imp <- var.imp[order(var.imp, decreasing = TRUE),, drop=FALSE]\n",
    "var.imp <- var.imp[var.imp > 10, , drop=FALSE]\n",
    "train_selected <- train_selected[, names(train_selected) %in% c(rownames(var.imp), 'label', 'protein')]\n",
    "test_selected <- test_selected[, names(test_selected) %in% c(rownames(var.imp), 'protein')]\n",
    "test_selected$X51 <- NULL\n",
    "train_selected$X51 <- NULL\n",
    "\n",
    "character_vars_s <- lapply(train_selected, class) == \"character\"\n",
    "train_selected[, character_vars_s] <- lapply(train_selected[, character_vars_s], factor)\n",
    "character_vars_t <- lapply(test_selected, class) == \"character\"\n",
    "test_selected[, character_vars_t] <- lapply(test_selected[, character_vars_t], factor)\n",
    "train_selected$label <- factor(train_selected$label)\n",
    "\n",
    "train_selected$chromosome <- factor(train_selected$chromosome)\n",
    "test_selected$chromosome <- factor(test_selected$chromosome)\n",
    "\n",
    "train_size <- floor(0.7 * nrow(train_selected))\n",
    "train_ind <- sample(seq_len(nrow(train_selected)), size = train_size, replace = FALSE)\n",
    "valid_ind <- seq_len(nrow(train_selected))[-train_ind]\n",
    "train_ind <- sample(seq_len(length(train_ind)), size = floor(2 * train_size), replace = TRUE)\n",
    "# train_selected_b <- train_selected[train_ind, ]\n",
    "train_selected_df <- train_selected[train_ind, ]\n",
    "valid_selected_df <- train_selected[valid_ind, ]\n",
    "\n",
    "# train_ind_0 <- sample(which(train_selected_b$label == 0), size = 1000, replace= TRUE)\n",
    "# train_selected_df <- train_selected_b[train_ind_0, ]\n",
    "# train_ind_1 <- sample(which(train_selected_b$label == 1), size = 600, replace = TRUE)\n",
    "# train_selected_df <- rbind(train_selected_df, train_selected_b[train_ind_1, ])\n",
    "# train_ind_2 <- sample(which(train_selected_b$label != 1 & train_selected_b$label != 0), size = 800, replace = TRUE)\n",
    "# train_selected_df <- rbind(train_selected_df, train_selected_b[train_ind_2, ])\n",
    "\n",
    "train_selected_df$X82 <- NULL\n",
    "valid_selected_df$X82 <- NULL\n",
    "test_selected$X82 <- NULL\n",
    "\n",
    "train_selected_df$X51 <- NULL\n",
    "valid_selected_df$X51 <- NULL\n",
    "test_selected$X51 <- NULL\n"
   ]
  },
  {
   "cell_type": "code",
   "execution_count": 43,
   "metadata": {},
   "outputs": [
    {
     "data": {
      "text/plain": [
       "\n",
       "           0            1            2            3            4            5 \n",
       "0.4200236967 0.2458530806 0.0663507109 0.0580568720 0.0639810427 0.0639810427 \n",
       "           6            7            8            9           10           11 \n",
       "0.0432464455 0.0130331754 0.0088862559 0.0082938389 0.0005924171 0.0053317536 \n",
       "          13 \n",
       "0.0023696682 "
      ]
     },
     "metadata": {},
     "output_type": "display_data"
    },
    {
     "data": {
      "text/plain": [
       "\n",
       "          0           1           2           3           4           5 \n",
       "0.447513812 0.229281768 0.077348066 0.058011050 0.080110497 0.044198895 \n",
       "          6           7           8           9          10          11 \n",
       "0.027624309 0.011049724 0.013812155 0.002762431 0.005524862 0.000000000 \n",
       "         13 \n",
       "0.002762431 "
      ]
     },
     "metadata": {},
     "output_type": "display_data"
    }
   ],
   "source": [
    "table(train_selected_df$label) / length(train_selected_df$label)\n",
    "table(valid_selected_df$label) / length(valid_selected_df$label)"
   ]
  },
  {
   "cell_type": "code",
   "execution_count": 46,
   "metadata": {},
   "outputs": [],
   "source": [
    "library(e1071)\n",
    "C <-  10 * seq(0.1, 1, 0.1)\n",
    "epsilon <- seq(0.1, 1, 0.1)\n",
    "g <- seq(0.1, 1, 0.1)\n",
    "max_acc <- 0\n",
    "max_C <- C[1]\n",
    "max_epsilon <- epsilon[1]\n",
    "max_g <- g[1]\n",
    "max_pred <- c()\n",
    "for (cost in C){\n",
    "  for (eps in epsilon){\n",
    "    model <- svm(label ~ . - protein, data = train_selected_df, kernel=\"radial\", cost = cost, epsilon = eps, gamma=g)\n",
    "    predicted <- predict(model, valid_selected_df)\n",
    "    predicted <- factor(predicted, levels=levels(valid_selected_df$label))\n",
    "    accu_l <- predicted == valid_selected_df$label\n",
    "    accuracy <- sum(accu_l) / length(accu_l)\n",
    "    if (accuracy > max_acc){\n",
    "      max_acc <- accuracy\n",
    "      max_C <- cost\n",
    "      max_epsilon <- eps\n",
    "      max_model <- model\n",
    "      max_g <- g\n",
    "      max_pred <- predicted\n",
    "    }\n",
    "  }\n",
    "}\n",
    "for (gamma in g){\n",
    "    model <- svm(label ~ . - protein, data = train_selected_df, kernel=\"radial\", cost = max_C, epsilon = max_epsilon, gamma=g)\n",
    "    predicted <- predict(model, valid_selected_df)\n",
    "    predicted <- factor(predicted, levels=levels(valid_selected_df$label))\n",
    "    accu_l <- predicted == valid_selected_df$label\n",
    "    accuracy <- sum(accu_l) / length(accu_l)\n",
    "    if (accuracy > max_acc){\n",
    "      max_acc <- accuracy\n",
    "      max_model <- model\n",
    "      max_g <- g\n",
    "      max_pred <- predicted\n",
    "    }\n",
    "}"
   ]
  },
  {
   "cell_type": "code",
   "execution_count": 47,
   "metadata": {},
   "outputs": [
    {
     "data": {
      "text/plain": [
       "Confusion Matrix and Statistics\n",
       "\n",
       "          Reference\n",
       "Prediction   0   1   2   3   4   5   6   7   8   9  10  11  13\n",
       "        0  155   3   0   2   0   3   0   0   0   0   0   0   0\n",
       "        1    4  74   3   0   1   0   1   1   0   0   0   0   0\n",
       "        2    0   0  25   0   1   0   0   0   0   0   0   0   0\n",
       "        3    0   1   0  19   0   0   0   0   0   0   0   0   0\n",
       "        4    3   4   0   0  27   1   0   0   1   0   0   0   0\n",
       "        5    0   0   0   0   0  12   0   0   0   0   0   0   0\n",
       "        6    0   1   0   0   0   0   9   0   0   0   0   0   0\n",
       "        7    0   0   0   0   0   0   0   3   0   0   0   0   0\n",
       "        8    0   0   0   0   0   0   0   0   4   0   0   0   0\n",
       "        9    0   0   0   0   0   0   0   0   0   1   0   0   0\n",
       "        10   0   0   0   0   0   0   0   0   0   0   2   0   0\n",
       "        11   0   0   0   0   0   0   0   0   0   0   0   0   0\n",
       "        13   0   0   0   0   0   0   0   0   0   0   0   0   1\n",
       "\n",
       "Overall Statistics\n",
       "                                          \n",
       "               Accuracy : 0.9171          \n",
       "                 95% CI : (0.8838, 0.9434)\n",
       "    No Information Rate : 0.4475          \n",
       "    P-Value [Acc > NIR] : < 2.2e-16       \n",
       "                                          \n",
       "                  Kappa : 0.8859          \n",
       "                                          \n",
       " Mcnemar's Test P-Value : NA              \n",
       "\n",
       "Statistics by Class:\n",
       "\n",
       "                     Class: 0 Class: 1 Class: 2 Class: 3 Class: 4 Class: 5\n",
       "Sensitivity            0.9568   0.8916  0.89286  0.90476  0.93103  0.75000\n",
       "Specificity            0.9600   0.9642  0.99701  0.99707  0.97297  1.00000\n",
       "Pos Pred Value         0.9509   0.8810  0.96154  0.95000  0.75000  1.00000\n",
       "Neg Pred Value         0.9648   0.9676  0.99107  0.99415  0.99387  0.98857\n",
       "Prevalence             0.4475   0.2293  0.07735  0.05801  0.08011  0.04420\n",
       "Detection Rate         0.4282   0.2044  0.06906  0.05249  0.07459  0.03315\n",
       "Detection Prevalence   0.4503   0.2320  0.07182  0.05525  0.09945  0.03315\n",
       "Balanced Accuracy      0.9584   0.9279  0.94493  0.95091  0.95200  0.87500\n",
       "                     Class: 6 Class: 7 Class: 8 Class: 9 Class: 10 Class: 11\n",
       "Sensitivity           0.90000 0.750000  0.80000 1.000000  1.000000        NA\n",
       "Specificity           0.99716 1.000000  1.00000 1.000000  1.000000         1\n",
       "Pos Pred Value        0.90000 1.000000  1.00000 1.000000  1.000000        NA\n",
       "Neg Pred Value        0.99716 0.997214  0.99721 1.000000  1.000000        NA\n",
       "Prevalence            0.02762 0.011050  0.01381 0.002762  0.005525         0\n",
       "Detection Rate        0.02486 0.008287  0.01105 0.002762  0.005525         0\n",
       "Detection Prevalence  0.02762 0.008287  0.01105 0.002762  0.005525         0\n",
       "Balanced Accuracy     0.94858 0.875000  0.90000 1.000000  1.000000        NA\n",
       "                     Class: 13\n",
       "Sensitivity           1.000000\n",
       "Specificity           1.000000\n",
       "Pos Pred Value        1.000000\n",
       "Neg Pred Value        1.000000\n",
       "Prevalence            0.002762\n",
       "Detection Rate        0.002762\n",
       "Detection Prevalence  0.002762\n",
       "Balanced Accuracy     1.000000"
      ]
     },
     "metadata": {},
     "output_type": "display_data"
    }
   ],
   "source": [
    "library(caret)\n",
    "confusionMatrix(max_pred, valid_selected_df$label)"
   ]
  },
  {
   "cell_type": "code",
   "execution_count": 50,
   "metadata": {},
   "outputs": [
    {
     "data": {
      "text/plain": [
       "test_preds\n",
       "          0           1           2           3           4           5 \n",
       "0.509186352 0.246719160 0.094488189 0.039370079 0.034120735 0.031496063 \n",
       "          6           7           8           9          10          11 \n",
       "0.026246719 0.002624672 0.013123360 0.002624672 0.000000000 0.000000000 \n",
       "         13 \n",
       "0.000000000 "
      ]
     },
     "metadata": {},
     "output_type": "display_data"
    }
   ],
   "source": [
    "for (i in colnames(test)){\n",
    "    n1 = levels(test[, i])\n",
    "    n2 = levels(train[, i])\n",
    "    if (length(n1) != length(n2) || sum(n1 != n2)){\n",
    "#         print(i)\n",
    "#         print(levels(test[, i]))\n",
    "#         print(levels(train[, i]))\n",
    "        test[, i] <- factor(test[, i], levels = levels(train[, i]))\n",
    "    }\n",
    "}\n",
    "\n",
    "test_preds <- predict(max_model, test_selected)\n",
    "test_selected$label <- test_preds\n",
    "table(test_preds) / length(test_preds)"
   ]
  },
  {
   "cell_type": "code",
   "execution_count": 222,
   "metadata": {},
   "outputs": [
    {
     "data": {
      "text/plain": [
       "\n",
       "          0           1          10           2           3           4 \n",
       "0.422572178 0.304461942 0.002624672 0.057742782 0.057742782 0.020997375 \n",
       "          5           6           7           8           9 \n",
       "0.060367454 0.026246719 0.020997375 0.023622047 0.002624672 "
      ]
     },
     "metadata": {},
     "output_type": "display_data"
    }
   ],
   "source": [
    "result <- data.frame(\"protein\" = test$protein, \"label\" = test$label)\n",
    "result_agg <- aggregate(result,\n",
    "                by = list(result$protein),\n",
    "                FUN = function(x) tail(names(sort(table(x))), 1))\n",
    "result_agg <- data.frame(\"protein\" = result_agg$protein, \"label\" = result_agg$label)\n",
    "table(result_agg$label) / length(result_agg$label)"
   ]
  },
  {
   "cell_type": "code",
   "execution_count": 223,
   "metadata": {},
   "outputs": [],
   "source": [
    "colnames(result_agg) <- c('Key', 'Label')\n",
    "write.csv(result_agg,'./result/result_Apr3_2.csv', row.names = FALSE, quote=FALSE)"
   ]
  },
  {
   "cell_type": "code",
   "execution_count": null,
   "metadata": {},
   "outputs": [],
   "source": []
  }
 ],
 "metadata": {
  "kernelspec": {
   "display_name": "R",
   "language": "R",
   "name": "ir"
  },
  "language_info": {
   "codemirror_mode": "r",
   "file_extension": ".r",
   "mimetype": "text/x-r-source",
   "name": "R",
   "pygments_lexer": "r",
   "version": "4.0.2"
  }
 },
 "nbformat": 4,
 "nbformat_minor": 4
}
