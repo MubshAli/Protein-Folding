{
 "cells": [
  {
   "cell_type": "code",
   "execution_count": 29,
   "metadata": {},
   "outputs": [],
   "source": [
    "# train = read.csv('./Stat441_KaggleProject/Train_for_adam.csv')\n",
    "# test = read.csv('./Stat441_KaggleProject/Test_for_adam.csv')\n",
    "# train_drop_col = colnames(train)[!colnames(train) %in% colnames(test)]\n",
    "# train <- train[, !names(train) %in% train_drop_col]\n",
    "# CLASSes = grep(\"^CLASS.\", colnames(train))\n",
    "# COMPLEXes = grep(\"^COMPLEX.\", colnames(train))\n",
    "# PHENOTYPEs = grep(\"^PHENOTYPE.\", colnames(train))\n",
    "# MOTIFs = grep(\"^MOTIF.\", colnames(train))\n",
    "# NUMINTERs = grep(\"^NUM.INTERACING.\", colnames(train))\n",
    "# colnames(test)[!colnames(test) %in% colnames(train)]"
   ]
  },
  {
   "cell_type": "code",
   "execution_count": 209,
   "metadata": {},
   "outputs": [],
   "source": [
    "train = read.csv('./Stat441_KaggleProject/train_selected_adam.csv', header=TRUE)\n",
    "test = read.csv('./Stat441_KaggleProject/test_selected_adam.csv', header=TRUE)\n",
    "\n",
    "train$essential[train$essential == 0] <- 1\n",
    "test$essential[test$essential == 0] <- 3\n",
    "test$essential[test$essential == 1] <- 2\n",
    "test$essential[test$essential == 2] <- 1\n",
    "test$essential[test$essential == 3] <- 2\n",
    "\n",
    "cont_cols = c(sapply(seq(45, 57), function(x) {paste(\"X4\", toString(x), sep='')}), 'correlation', 'protein')\n",
    "# binary_cols = c('X94','X95','X96','X97','X298', 'X307', 'X342')\n",
    "# num_cols = c(cont_cols, binary_cols)\n",
    "num_cols = c(cont_cols)\n",
    "train[, !names(train) %in% num_cols] <- lapply(train[, !names(train) %in% num_cols], factor)\n",
    "# test$chromosome[!test$chromosome %in% levels(train$chromosome)] <- '17'\n",
    "test[, !names(test) %in% num_cols] <- lapply(test[, !names(test) %in% num_cols], factor)\n",
    "train$chromosome <- factor(train$chromosome, levels = levels(test$chromosome))\n",
    "train$chromosome[is.na(train$chromosome)] <- '3'\n",
    "# train$binarysum <- rowSums(train[binary_cols])\n",
    "# train <- train[, !names(train) %in% binary_cols]\n",
    "# test$binarysum <- rowSums(test[binary_cols])\n",
    "# test <- test[, !names(test) %in% binary_cols]\n",
    "\n",
    "train_size <- floor(0.7 * nrow(train))\n",
    "train_ind <- sample(seq_len(nrow(train)), size = train_size, replace = FALSE)\n",
    "valid_ind <- seq_len(nrow(train))[-train_ind]\n",
    "# train_ind <- sample(seq_len(length(train_ind)), size = floor(1.5 * train_size), replace = TRUE)\n",
    "train_df <- train[train_ind, ]\n",
    "valid_df <- train[valid_ind, ]\n",
    "train_df$label <- factor(train_df$label)"
   ]
  },
  {
   "cell_type": "code",
   "execution_count": 210,
   "metadata": {},
   "outputs": [
    {
     "data": {
      "text/html": [
       "<style>\n",
       ".list-inline {list-style: none; margin:0; padding: 0}\n",
       ".list-inline>li {display: inline-block}\n",
       ".list-inline>li:not(:last-child)::after {content: \"\\00b7\"; padding: 0 .5ex}\n",
       "</style>\n",
       "<ol class=list-inline><li>'0'</li><li>'1'</li><li>'2'</li><li>'3'</li><li>'4'</li><li>'5'</li><li>'6'</li><li>'7'</li><li>'8'</li><li>'9'</li><li>'10'</li><li>'11'</li><li>'12'</li><li>'13'</li><li>'14'</li><li>'15'</li></ol>\n"
      ],
      "text/latex": [
       "\\begin{enumerate*}\n",
       "\\item '0'\n",
       "\\item '1'\n",
       "\\item '2'\n",
       "\\item '3'\n",
       "\\item '4'\n",
       "\\item '5'\n",
       "\\item '6'\n",
       "\\item '7'\n",
       "\\item '8'\n",
       "\\item '9'\n",
       "\\item '10'\n",
       "\\item '11'\n",
       "\\item '12'\n",
       "\\item '13'\n",
       "\\item '14'\n",
       "\\item '15'\n",
       "\\end{enumerate*}\n"
      ],
      "text/markdown": [
       "1. '0'\n",
       "2. '1'\n",
       "3. '2'\n",
       "4. '3'\n",
       "5. '4'\n",
       "6. '5'\n",
       "7. '6'\n",
       "8. '7'\n",
       "9. '8'\n",
       "10. '9'\n",
       "11. '10'\n",
       "12. '11'\n",
       "13. '12'\n",
       "14. '13'\n",
       "15. '14'\n",
       "16. '15'\n",
       "\n",
       "\n"
      ],
      "text/plain": [
       " [1] \"0\"  \"1\"  \"2\"  \"3\"  \"4\"  \"5\"  \"6\"  \"7\"  \"8\"  \"9\"  \"10\" \"11\" \"12\" \"13\" \"14\"\n",
       "[16] \"15\""
      ]
     },
     "metadata": {},
     "output_type": "display_data"
    }
   ],
   "source": [
    "levels(test$chromosome)"
   ]
  },
  {
   "cell_type": "code",
   "execution_count": 211,
   "metadata": {},
   "outputs": [
    {
     "data": {
      "text/html": [
       "0.738578680203046"
      ],
      "text/latex": [
       "0.738578680203046"
      ],
      "text/markdown": [
       "0.738578680203046"
      ],
      "text/plain": [
       "[1] 0.7385787"
      ]
     },
     "metadata": {},
     "output_type": "display_data"
    },
    {
     "data": {
      "text/plain": [
       "valid_preds\n",
       "          0           1           2           3           4           5 \n",
       "0.456852792 0.230964467 0.068527919 0.076142132 0.032994924 0.030456853 \n",
       "          6           7           8           9          10          11 \n",
       "0.030456853 0.022842640 0.012690355 0.012690355 0.017766497 0.000000000 \n",
       "         12          13          14 \n",
       "0.002538071 0.002538071 0.002538071 "
      ]
     },
     "metadata": {},
     "output_type": "display_data"
    }
   ],
   "source": [
    "# library(e1071)\n",
    "# model <- svm(label ~ . - protein, data = train_df, kernel=\"linear\", cost = 10, epsilon = 0.1)\n",
    "# valid_preds <- predict(model, valid_df)\n",
    "# valid_preds <- factor(valid_preds, levels=levels(valid_df$label))\n",
    "# valid_l <- valid_preds == valid_df$label\n",
    "# sum(valid_l) / length(valid_l)\n",
    "# table(valid_preds) / length(valid_preds)"
   ]
  },
  {
   "cell_type": "code",
   "execution_count": 219,
   "metadata": {},
   "outputs": [],
   "source": [
    "C <- 10 * seq(0.1, 1, 0.1)\n",
    "epsilon <- seq(0.1, 1, 0.1)\n",
    "g <- seq(0.1, 1, 0.1)\n",
    "max_acc <- 0\n",
    "max_C <- C[1]\n",
    "max_epsilon <- epsilon[1]\n",
    "max_g <- g[1]\n",
    "max_pred <- c()\n",
    "for (cost in C){\n",
    "  for (eps in epsilon){\n",
    "    model <- svm(label ~ . - protein, data = train_df, kernel=\"linear\", cost = cost, epsilon = eps, gamma=g)\n",
    "    predicted <- predict(model, valid_df)\n",
    "    predicted <- factor(predicted, levels=levels(valid_df$label))\n",
    "    accu_l <- predicted == valid_df$label\n",
    "    accuracy <- sum(accu_l) / length(accu_l)\n",
    "    if (accuracy > max_acc){\n",
    "      max_acc <- accuracy\n",
    "      max_C <- cost\n",
    "      max_epsilon <- eps\n",
    "      max_model <- model\n",
    "      max_g <- g\n",
    "      max_pred <- predicted\n",
    "    }\n",
    "  }\n",
    "}"
   ]
  },
  {
   "cell_type": "code",
   "execution_count": 220,
   "metadata": {},
   "outputs": [
    {
     "data": {
      "text/plain": [
       "max_pred\n",
       "          0           1           2           3           4           5 \n",
       "0.459390863 0.269035533 0.043147208 0.078680203 0.025380711 0.040609137 \n",
       "          6           7           8           9          10          11 \n",
       "0.032994924 0.022842640 0.015228426 0.007614213 0.005076142 0.000000000 \n",
       "         12          13          14 \n",
       "0.000000000 0.000000000 0.000000000 "
      ]
     },
     "metadata": {},
     "output_type": "display_data"
    }
   ],
   "source": [
    "table(max_pred) / length(max_pred)"
   ]
  },
  {
   "cell_type": "code",
   "execution_count": 221,
   "metadata": {},
   "outputs": [
    {
     "data": {
      "text/plain": [
       "test_preds\n",
       "          0           1           2           3           4           5 \n",
       "0.454976303 0.226540284 0.030331754 0.099526066 0.019905213 0.052132701 \n",
       "          6           7           8           9          10          11 \n",
       "0.062559242 0.018009479 0.024644550 0.008530806 0.002843602 0.000000000 \n",
       "         12          13          14 \n",
       "0.000000000 0.000000000 0.000000000 "
      ]
     },
     "metadata": {},
     "output_type": "display_data"
    }
   ],
   "source": [
    "for (i in colnames(test)){\n",
    "    n1 = levels(test[, i])\n",
    "    n2 = levels(train[, i])\n",
    "    if (length(n1) != length(n2) || sum(n1 != n2)){\n",
    "#         print(i)\n",
    "#         print(levels(test[, i]))\n",
    "#         print(levels(train[, i]))\n",
    "        test[, i] <- factor(test[, i], levels = levels(train[, i]))\n",
    "    }\n",
    "}\n",
    "\n",
    "test_preds <- predict(max_model, test)\n",
    "test$label <- test_preds\n",
    "table(test_preds) / length(test_preds)"
   ]
  },
  {
   "cell_type": "code",
   "execution_count": 222,
   "metadata": {},
   "outputs": [
    {
     "data": {
      "text/plain": [
       "\n",
       "          0           1          10           2           3           4 \n",
       "0.422572178 0.304461942 0.002624672 0.057742782 0.057742782 0.020997375 \n",
       "          5           6           7           8           9 \n",
       "0.060367454 0.026246719 0.020997375 0.023622047 0.002624672 "
      ]
     },
     "metadata": {},
     "output_type": "display_data"
    }
   ],
   "source": [
    "result <- data.frame(\"protein\" = test$protein, \"label\" = test$label)\n",
    "result_agg <- aggregate(result,\n",
    "                by = list(result$protein),\n",
    "                FUN = function(x) tail(names(sort(table(x))), 1))\n",
    "result_agg <- data.frame(\"protein\" = result_agg$protein, \"label\" = result_agg$label)\n",
    "table(result_agg$label) / length(result_agg$label)"
   ]
  },
  {
   "cell_type": "code",
   "execution_count": 223,
   "metadata": {},
   "outputs": [],
   "source": [
    "colnames(result_agg) <- c('Key', 'Label')\n",
    "write.csv(result_agg,'./result/result_Apr3_2.csv', row.names = FALSE, quote=FALSE)"
   ]
  },
  {
   "cell_type": "code",
   "execution_count": null,
   "metadata": {},
   "outputs": [],
   "source": []
  }
 ],
 "metadata": {
  "kernelspec": {
   "display_name": "R",
   "language": "R",
   "name": "ir"
  },
  "language_info": {
   "codemirror_mode": "r",
   "file_extension": ".r",
   "mimetype": "text/x-r-source",
   "name": "R",
   "pygments_lexer": "r",
   "version": "4.0.2"
  }
 },
 "nbformat": 4,
 "nbformat_minor": 4
}
