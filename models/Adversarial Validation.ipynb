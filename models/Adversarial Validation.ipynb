{
 "cells": [
  {
   "cell_type": "code",
   "execution_count": 1,
   "metadata": {},
   "outputs": [],
   "source": [
    "train <- read.csv('./train_cleaned.csv')\n",
    "test <- read.csv('./test_cleaned.csv')\n",
    "test$label <- 0\n",
    "# label the dataset \n",
    "train$dataset <- 0\n",
    "test$dataset <- 1\n",
    "\n",
    "# group train and test\n",
    "mixed <- rbind(train, test)\n",
    "mixed$dataset <- factor(mixed$dataset)\n",
    "character_vars <- lapply(mixed, class) == \"character\"\n",
    "mixed[, character_vars] <- lapply(mixed[, character_vars], factor)\n",
    "\n",
    "# remove single factor variables\n",
    "single_factor_vars <- lapply(mixed, function(x) {length(levels(x))}) == 1\n",
    "single_factor_vars = single_factor_vars[single_factor_vars]\n",
    "mixed <- mixed[, !names(mixed) %in% names(single_factor_vars)]\n",
    "\n",
    "# split mixed into train/valid\n",
    "train_size <- floor(0.7 * nrow(mixed))\n",
    "train_ind <- sample(seq_len(nrow(mixed)), size = train_size, replace = FALSE)\n",
    "train_df <- mixed[train_ind, ]\n",
    "valid_df <- mixed[-train_ind, ]\n",
    "\n",
    "show_level_diff <- function(df1, df2){\n",
    "    for (i in colnames(df2)){\n",
    "    n1 = levels(df2[, i])\n",
    "    n2 = levels(df1[, i])\n",
    "    if (length(n1) != length(n2) || sum(n1 != n2)){\n",
    "        print(i)\n",
    "        print(levels(df1[, i]))\n",
    "        print(levels(df2[, i]))\n",
    "        }\n",
    "    }\n",
    "}"
   ]
  },
  {
   "cell_type": "code",
   "execution_count": 3,
   "metadata": {},
   "outputs": [
    {
     "data": {
      "text/html": [
       "0.801608579088472"
      ],
      "text/latex": [
       "0.801608579088472"
      ],
      "text/markdown": [
       "0.801608579088472"
      ],
      "text/plain": [
       "[1] 0.8016086"
      ]
     },
     "metadata": {},
     "output_type": "display_data"
    }
   ],
   "source": [
    "library(randomForest)\n",
    "rf.clf <- randomForest(dataset ~ . - protein - label, data=train_df)\n",
    "p <- predict(rf.clf, valid_df)\n",
    "l <- p == valid_df$dataset\n",
    "sum(l) / length(l)"
   ]
  },
  {
   "cell_type": "code",
   "execution_count": null,
   "metadata": {},
   "outputs": [],
   "source": []
  },
  {
   "cell_type": "code",
   "execution_count": 107,
   "metadata": {},
   "outputs": [
    {
     "data": {
      "text/html": [
       "<style>\n",
       ".list-inline {list-style: none; margin:0; padding: 0}\n",
       ".list-inline>li {display: inline-block}\n",
       ".list-inline>li:not(:last-child)::after {content: \"\\00b7\"; padding: 0 .5ex}\n",
       "</style>\n",
       "<ol class=list-inline><li>'essential_interact'</li><li>'chromosome'</li><li>'X449'</li><li>'X456'</li><li>'X445'</li><li>'X450'</li><li>'X82'</li><li>'X454'</li><li>'X453'</li><li>'essential'</li><li>'X86'</li><li>'X85'</li><li>'X446'</li><li>'X447'</li><li>'X448'</li><li>'X71'</li><li>'X96'</li><li>'X455'</li><li>'X84'</li><li>'X88'</li><li>'X87'</li><li>'X79'</li><li>'X39'</li><li>'X451'</li><li>'X5'</li><li>'X23'</li><li>'X92'</li><li>'X51'</li><li>'X89'</li><li>'X81'</li><li>'X80'</li><li>'X19'</li></ol>\n"
      ],
      "text/latex": [
       "\\begin{enumerate*}\n",
       "\\item 'essential\\_interact'\n",
       "\\item 'chromosome'\n",
       "\\item 'X449'\n",
       "\\item 'X456'\n",
       "\\item 'X445'\n",
       "\\item 'X450'\n",
       "\\item 'X82'\n",
       "\\item 'X454'\n",
       "\\item 'X453'\n",
       "\\item 'essential'\n",
       "\\item 'X86'\n",
       "\\item 'X85'\n",
       "\\item 'X446'\n",
       "\\item 'X447'\n",
       "\\item 'X448'\n",
       "\\item 'X71'\n",
       "\\item 'X96'\n",
       "\\item 'X455'\n",
       "\\item 'X84'\n",
       "\\item 'X88'\n",
       "\\item 'X87'\n",
       "\\item 'X79'\n",
       "\\item 'X39'\n",
       "\\item 'X451'\n",
       "\\item 'X5'\n",
       "\\item 'X23'\n",
       "\\item 'X92'\n",
       "\\item 'X51'\n",
       "\\item 'X89'\n",
       "\\item 'X81'\n",
       "\\item 'X80'\n",
       "\\item 'X19'\n",
       "\\end{enumerate*}\n"
      ],
      "text/markdown": [
       "1. 'essential_interact'\n",
       "2. 'chromosome'\n",
       "3. 'X449'\n",
       "4. 'X456'\n",
       "5. 'X445'\n",
       "6. 'X450'\n",
       "7. 'X82'\n",
       "8. 'X454'\n",
       "9. 'X453'\n",
       "10. 'essential'\n",
       "11. 'X86'\n",
       "12. 'X85'\n",
       "13. 'X446'\n",
       "14. 'X447'\n",
       "15. 'X448'\n",
       "16. 'X71'\n",
       "17. 'X96'\n",
       "18. 'X455'\n",
       "19. 'X84'\n",
       "20. 'X88'\n",
       "21. 'X87'\n",
       "22. 'X79'\n",
       "23. 'X39'\n",
       "24. 'X451'\n",
       "25. 'X5'\n",
       "26. 'X23'\n",
       "27. 'X92'\n",
       "28. 'X51'\n",
       "29. 'X89'\n",
       "30. 'X81'\n",
       "31. 'X80'\n",
       "32. 'X19'\n",
       "\n",
       "\n"
      ],
      "text/plain": [
       " [1] \"essential_interact\" \"chromosome\"         \"X449\"              \n",
       " [4] \"X456\"               \"X445\"               \"X450\"              \n",
       " [7] \"X82\"                \"X454\"               \"X453\"              \n",
       "[10] \"essential\"          \"X86\"                \"X85\"               \n",
       "[13] \"X446\"               \"X447\"               \"X448\"              \n",
       "[16] \"X71\"                \"X96\"                \"X455\"              \n",
       "[19] \"X84\"                \"X88\"                \"X87\"               \n",
       "[22] \"X79\"                \"X39\"                \"X451\"              \n",
       "[25] \"X5\"                 \"X23\"                \"X92\"               \n",
       "[28] \"X51\"                \"X89\"                \"X81\"               \n",
       "[31] \"X80\"                \"X19\"               "
      ]
     },
     "metadata": {},
     "output_type": "display_data"
    }
   ],
   "source": [
    "var.imp <- importance(rf.clf)\n",
    "var.imp <- var.imp[order(var.imp, decreasing = TRUE),, drop=FALSE]\n",
    "var.imp <- var.imp[20 > var.imp & var.imp > 1, , drop=FALSE]\n",
    "selected_vars <- rownames(var.imp)\n",
    "selected_vars"
   ]
  },
  {
   "cell_type": "code",
   "execution_count": 115,
   "metadata": {},
   "outputs": [],
   "source": [
    "train_selected <- train\n",
    "test_selected <- test\n",
    "train_selected$chromosome_interact <- NULL\n",
    "train_selected$type <- NULL\n",
    "\n",
    "test_selected$protein <- test$protein\n",
    "test_selected$X82 = NULL\n",
    "test_selected$chromosome_interact <- NULL\n",
    "test_selected$type <- NULL\n",
    "test_selected$essential[test_selected$essential == 'Ambiguous-Non-Essential'] = 'Non-Essential'\n",
    "test_selected$essential_interact[test_selected$essential_interact == 'Ambiguous-Essential'] = 'Essential'\n",
    "\n",
    "character_vars_s <- lapply(train_selected, class) == \"character\"\n",
    "train_selected[, character_vars_s] <- lapply(train_selected[, character_vars_s], factor)\n",
    "character_vars_t <- lapply(test_selected, class) == \"character\"\n",
    "test_selected[, character_vars_t] <- lapply(test_selected[, character_vars_t], factor)\n",
    "\n",
    "for (i in colnames(test_selected)){\n",
    "    if (i == 'protein'){\n",
    "        next\n",
    "    }\n",
    "    n1 = length(levels(test_selected[, i]))\n",
    "    n2 = length(levels(test_selected[, i]))\n",
    "    if (n1 == 1 || n1 != n2){\n",
    "        test_selected[, i] = NULL\n",
    "        train_selected[, i] = NULL\n",
    "    } \n",
    "}"
   ]
  },
  {
   "cell_type": "code",
   "execution_count": 44,
   "metadata": {},
   "outputs": [],
   "source": [
    "rf.clf.label <- randomForest(label ~ . - protein, data=train_selected)"
   ]
  },
  {
   "cell_type": "code",
   "execution_count": 116,
   "metadata": {},
   "outputs": [],
   "source": [
    "var.imp <- importance(rf.clf.label)\n",
    "var.imp <- var.imp[order(var.imp, decreasing = TRUE),, drop=FALSE]\n",
    "var.imp <- var.imp[var.imp > 10, , drop=FALSE]\n",
    "train_selected <- train_selected[, names(train_selected) %in% c(rownames(var.imp), 'label', 'protein')]\n",
    "test_selected <- test_selected[, names(test_selected) %in% c(rownames(var.imp), 'protein')]\n",
    "test_selected$X51 <- NULL\n",
    "train_selected$X51 <- NULL\n",
    "\n",
    "character_vars_s <- lapply(train_selected, class) == \"character\"\n",
    "train_selected[, character_vars_s] <- lapply(train_selected[, character_vars_s], factor)\n",
    "character_vars_t <- lapply(test_selected, class) == \"character\"\n",
    "test_selected[, character_vars_t] <- lapply(test_selected[, character_vars_t], factor)\n",
    "train_selected$label <- factor(train_selected$label)\n",
    "\n",
    "train_size <- floor(0.7 * nrow(train_selected))\n",
    "train_ind <- sample(seq_len(nrow(train_selected)), size = train_size, replace = FALSE)\n",
    "valid_ind <- seq_len(nrow(train_selected))[-train_ind]\n",
    "train_ind <- sample(seq_len(length(train_ind)), size = floor(1.5 * train_size), replace = TRUE)\n",
    "train_selected_df <- train_selected[train_ind, ]\n",
    "valid_selected_df <- train_selected[valid_ind, ]\n",
    "train_selected_df$X82 <- NULL\n",
    "\n",
    "\n"
   ]
  },
  {
   "cell_type": "code",
   "execution_count": 117,
   "metadata": {},
   "outputs": [
    {
     "data": {
      "text/html": [
       "<style>\n",
       ".list-inline {list-style: none; margin:0; padding: 0}\n",
       ".list-inline>li {display: inline-block}\n",
       ".list-inline>li:not(:last-child)::after {content: \"\\00b7\"; padding: 0 .5ex}\n",
       "</style>\n",
       "<ol class=list-inline><li>20</li><li>0.001</li></ol>\n"
      ],
      "text/latex": [
       "\\begin{enumerate*}\n",
       "\\item 20\n",
       "\\item 0.001\n",
       "\\end{enumerate*}\n"
      ],
      "text/markdown": [
       "1. 20\n",
       "2. 0.001\n",
       "\n",
       "\n"
      ],
      "text/plain": [
       "[1] 2e+01 1e-03"
      ]
     },
     "metadata": {},
     "output_type": "display_data"
    }
   ],
   "source": [
    "library(e1071)\n",
    "C <- 20 * seq(0.1, 1, 0.1)\n",
    "epsilon <- seq(0.001, 0.01, 0.001)\n",
    "g <- seq(0.01, 0.1, 0.01)\n",
    "max_acc <- 0\n",
    "max_C <- C[1]\n",
    "max_epsilon <- epsilon[1]\n",
    "max_pred <- c()\n",
    "max_g <- g[1]\n",
    "for (cost in C){\n",
    "  for (eps in epsilon){\n",
    "    model <- svm(label ~ . - protein - correlation - chromosome, data = train_selected_df, kernel=\"radial\", cost = cost, epsilon = eps)\n",
    "    predicted <- predict(model, valid_selected_df)\n",
    "    predicted <- factor(predicted, levels=levels(valid_selected_df$label))\n",
    "    accu_l <- predicted == valid_selected_df$label\n",
    "    accuracy <- sum(accu_l) / length(accu_l)\n",
    "    if (accuracy > max_acc){\n",
    "      max_acc <- accuracy\n",
    "      max_C <- cost\n",
    "      max_epsilon <- eps\n",
    "      max_model <- model\n",
    "      max_pred <- predicted\n",
    "    }\n",
    "  }\n",
    "}\n",
    "c(max_C, max_epsilon)\n",
    "for (gm in g){\n",
    "    model <- svm(label ~ . - protein - correlation - chromosome, data = train_selected_df, kernel=\"radial\", cost = max_C, epsilon = max_epsilon, gamma=gm)\n",
    "    predicted <- predict(model, valid_selected_df)\n",
    "    predicted <- factor(predicted, levels=levels(valid_selected_df$label))\n",
    "    accu_l <- predicted == valid_selected_df$label\n",
    "    accuracy <- sum(accu_l) / length(accu_l)\n",
    "    if (accuracy > max_acc){\n",
    "      max_acc <- accuracy\n",
    "      max_model <- model\n",
    "      max_pred <- predicted\n",
    "      max_g <- gm\n",
    "    }\n",
    "}"
   ]
  },
  {
   "cell_type": "code",
   "execution_count": 118,
   "metadata": {},
   "outputs": [
    {
     "data": {
      "text/plain": [
       "max_pred\n",
       "          0           1           2           3           4           5 \n",
       "0.467181467 0.270270270 0.046332046 0.038610039 0.042471042 0.019305019 \n",
       "          6           7           8           9          10          11 \n",
       "0.069498069 0.015444015 0.003861004 0.023166023 0.000000000 0.003861004 \n",
       "         12          13          14 \n",
       "0.000000000 0.000000000 0.000000000 "
      ]
     },
     "metadata": {},
     "output_type": "display_data"
    },
    {
     "data": {
      "text/html": [
       "<style>\n",
       ".list-inline {list-style: none; margin:0; padding: 0}\n",
       ".list-inline>li {display: inline-block}\n",
       ".list-inline>li:not(:last-child)::after {content: \"\\00b7\"; padding: 0 .5ex}\n",
       "</style>\n",
       "<ol class=list-inline><li>20</li><li>0.001</li><li>0.07</li><li>0.77992277992278</li></ol>\n"
      ],
      "text/latex": [
       "\\begin{enumerate*}\n",
       "\\item 20\n",
       "\\item 0.001\n",
       "\\item 0.07\n",
       "\\item 0.77992277992278\n",
       "\\end{enumerate*}\n"
      ],
      "text/markdown": [
       "1. 20\n",
       "2. 0.001\n",
       "3. 0.07\n",
       "4. 0.77992277992278\n",
       "\n",
       "\n"
      ],
      "text/plain": [
       "[1] 20.0000000  0.0010000  0.0700000  0.7799228"
      ]
     },
     "metadata": {},
     "output_type": "display_data"
    }
   ],
   "source": [
    "table(max_pred) / length(max_pred)\n",
    "c(max_C, max_epsilon, max_g, max_acc)"
   ]
  },
  {
   "cell_type": "code",
   "execution_count": 125,
   "metadata": {},
   "outputs": [],
   "source": [
    "accuracy_per_label <- function(label){\n",
    "    accu_l_0 <- valid_selected_df$label == label\n",
    "    accu_l_0 <- predicted[accu_l_0] == label\n",
    "    print(sum(accu_l_0) / length(accu_l_0))\n",
    "}"
   ]
  },
  {
   "cell_type": "code",
   "execution_count": 126,
   "metadata": {},
   "outputs": [
    {
     "name": "stdout",
     "output_type": "stream",
     "text": [
      "[1] 0.9230769\n",
      "[1] 0.7592593\n",
      "[1] 0.4444444\n",
      "[1] 0.5333333\n",
      "[1] 0.5714286\n",
      "[1] 0.625\n",
      "[1] 0.6875\n",
      "[1] 0.5\n",
      "[1] 0\n",
      "[1] 0.8\n",
      "[1] 0\n",
      "[1] 1\n",
      "[1] NaN\n",
      "[1] NaN\n",
      "[1] 0\n"
     ]
    }
   ],
   "source": [
    "for (i in levels(valid_selected_df$label)){\n",
    "    accuracy_per_label(i)\n",
    "}"
   ]
  },
  {
   "cell_type": "code",
   "execution_count": 119,
   "metadata": {},
   "outputs": [
    {
     "data": {
      "text/plain": [
       "test_preds\n",
       "          0           1           2           3           4           5 \n",
       "0.443569554 0.296587927 0.044619423 0.049868766 0.031496063 0.052493438 \n",
       "          6           7           8           9          10          11 \n",
       "0.028871391 0.018372703 0.020997375 0.007874016 0.000000000 0.005249344 \n",
       "         12          13          14 \n",
       "0.000000000 0.000000000 0.000000000 "
      ]
     },
     "metadata": {},
     "output_type": "display_data"
    }
   ],
   "source": [
    "test_preds <- predict(max_model, test_selected)\n",
    "test_selected$label <- test_preds\n",
    "table(test_preds) / length(test_preds)"
   ]
  },
  {
   "cell_type": "code",
   "execution_count": 93,
   "metadata": {},
   "outputs": [],
   "source": [
    "result_agg <- data.frame(Key=test_selected$protein, Label=test_selected$label)\n",
    "write.csv(result_agg,'./result/result_Apr4.csv', row.names = FALSE, quote=FALSE)"
   ]
  },
  {
   "cell_type": "code",
   "execution_count": null,
   "metadata": {},
   "outputs": [],
   "source": []
  }
 ],
 "metadata": {
  "kernelspec": {
   "display_name": "R",
   "language": "R",
   "name": "ir"
  },
  "language_info": {
   "codemirror_mode": "r",
   "file_extension": ".r",
   "mimetype": "text/x-r-source",
   "name": "R",
   "pygments_lexer": "r",
   "version": "4.0.2"
  }
 },
 "nbformat": 4,
 "nbformat_minor": 4
}
