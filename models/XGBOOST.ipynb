{
 "cells": [
  {
   "cell_type": "code",
   "execution_count": 1,
   "metadata": {},
   "outputs": [],
   "source": [
    "train <- read.csv('./train_cleaned.csv')\n",
    "test <- read.csv('./test_cleaned.csv')\n",
    "test$label <- 0\n",
    "\n",
    "show_level_diff <- function(df1, df2){\n",
    "    for (i in colnames(df2)){\n",
    "    n1 = levels(df2[, i])\n",
    "    n2 = levels(df1[, i])\n",
    "    if (length(n1) != length(n2) | sum(n1 != n2)){\n",
    "        print(i)\n",
    "        print(levels(df1[, i]))\n",
    "        print(levels(df2[, i]))\n",
    "        }\n",
    "    }\n",
    "}"
   ]
  },
  {
   "cell_type": "code",
   "execution_count": null,
   "metadata": {},
   "outputs": [],
   "source": []
  },
  {
   "cell_type": "code",
   "execution_count": 2,
   "metadata": {},
   "outputs": [],
   "source": [
    "train_selected <- train\n",
    "test_selected <- test\n",
    "# train_selected$chromosome_interact <- NULL\n",
    "\n",
    "\n",
    "test_selected$protein <- test$protein\n",
    "test_selected$X82 = NULL\n",
    "# test_selected$chromosome_interact <- NULL\n",
    "\n",
    "test_selected$essential[test_selected$essential == 'Ambiguous-Non-Essential'] = 'Non-Essential'\n",
    "test_selected$essential_interact[test_selected$essential_interact == 'Ambiguous-Essential'] = 'Essential'\n",
    "\n",
    "character_vars_s <- lapply(train_selected, class) == \"character\"\n",
    "train_selected[, character_vars_s] <- lapply(train_selected[, character_vars_s], factor)\n",
    "character_vars_t <- lapply(test_selected, class) == \"character\"\n",
    "test_selected[, character_vars_t] <- lapply(test_selected[, character_vars_t], factor)\n",
    "\n",
    "for (i in colnames(test_selected)){\n",
    "    if (i == 'protein'){\n",
    "        next\n",
    "    }\n",
    "    n1 = length(levels(test_selected[, i]))\n",
    "    n2 = length(levels(test_selected[, i]))\n",
    "    if (n1 == 1 || n1 != n2){\n",
    "        test_selected[, i] = NULL\n",
    "        train_selected[, i] = NULL\n",
    "    } \n",
    "}"
   ]
  },
  {
   "cell_type": "code",
   "execution_count": 3,
   "metadata": {},
   "outputs": [
    {
     "name": "stderr",
     "output_type": "stream",
     "text": [
      "randomForest 4.6-14\n",
      "\n",
      "Type rfNews() to see new features/changes/bug fixes.\n",
      "\n"
     ]
    }
   ],
   "source": [
    "library(randomForest)\n",
    "rf.clf.label <- randomForest(label ~ . - protein, data=train_selected)"
   ]
  },
  {
   "cell_type": "code",
   "execution_count": 22,
   "metadata": {},
   "outputs": [],
   "source": [
    "var.imp <- importance(rf.clf.label)\n",
    "var.imp <- var.imp[order(var.imp, decreasing = TRUE),, drop=FALSE]\n",
    "var.imp <- var.imp[var.imp > 10, , drop=FALSE]\n",
    "train_selected <- train_selected[, names(train_selected) %in% c(rownames(var.imp), 'label', 'protein')]\n",
    "test_selected <- test_selected[, names(test_selected) %in% c(rownames(var.imp), 'protein')]\n",
    "test_selected$X51 <- NULL\n",
    "train_selected$X51 <- NULL\n",
    "\n",
    "character_vars_s <- lapply(train_selected, class) == \"character\"\n",
    "train_selected[, character_vars_s] <- lapply(train_selected[, character_vars_s], factor)\n",
    "character_vars_t <- lapply(test_selected, class) == \"character\"\n",
    "test_selected[, character_vars_t] <- lapply(test_selected[, character_vars_t], factor)\n",
    "train_selected$label <- factor(train_selected$label)\n",
    "\n",
    "train_selected$chromosome <- factor(train_selected$chromosome)\n",
    "test_selected$chromosome <- factor(test_selected$chromosome)\n",
    "\n",
    "train_size <- floor(0.7 * nrow(train_selected))\n",
    "train_ind <- sample(seq_len(nrow(train_selected)), size = train_size, replace = FALSE)\n",
    "valid_ind <- seq_len(nrow(train_selected))[-train_ind]\n",
    "train_ind <- sample(seq_len(length(train_ind)), size = floor(2 * train_size), replace = TRUE)\n",
    "# train_selected_b <- train_selected[train_ind, ]\n",
    "train_selected_df <- train_selected[train_ind, ]\n",
    "valid_selected_df <- train_selected[valid_ind, ]\n",
    "\n",
    "# train_ind_0 <- sample(which(train_selected_b$label == 0), size = 1000, replace= TRUE)\n",
    "# train_selected_df <- train_selected_b[train_ind_0, ]\n",
    "# train_ind_1 <- sample(which(train_selected_b$label == 1), size = 600, replace = TRUE)\n",
    "# train_selected_df <- rbind(train_selected_df, train_selected_b[train_ind_1, ])\n",
    "# train_ind_2 <- sample(which(train_selected_b$label != 1 & train_selected_b$label != 0), size = 800, replace = TRUE)\n",
    "# train_selected_df <- rbind(train_selected_df, train_selected_b[train_ind_2, ])\n",
    "\n",
    "\n",
    "train_selected_df$X82 <- NULL\n",
    "valid_selected_df$X82 <- NULL\n",
    "test_selected$X82 <- NULL\n",
    "\n",
    "train_selected_df$X51 <- NULL\n",
    "valid_selected_df$X51 <- NULL\n",
    "test_selected$X51 <- NULL\n"
   ]
  },
  {
   "cell_type": "code",
   "execution_count": 23,
   "metadata": {},
   "outputs": [
    {
     "data": {
      "text/plain": [
       "\n",
       "           0            1            2            3            4            5 \n",
       "0.4320066335 0.2247097844 0.0704809287 0.0572139303 0.0613598673 0.0522388060 \n",
       "           6            7            8            9           10           11 \n",
       "0.0505804312 0.0207296849 0.0082918740 0.0165837479 0.0008291874 0.0049751244 \n",
       "          12           13           14 \n",
       "0.0000000000 0.0000000000 0.0000000000 "
      ]
     },
     "metadata": {},
     "output_type": "display_data"
    },
    {
     "data": {
      "text/plain": [
       "\n",
       "          0           1           2           3           4           5 \n",
       "0.444015444 0.208494208 0.092664093 0.069498069 0.057915058 0.054054054 \n",
       "          6           7           8           9          10          11 \n",
       "0.023166023 0.007722008 0.011583012 0.011583012 0.011583012 0.003861004 \n",
       "         12          13          14 \n",
       "0.003861004 0.000000000 0.000000000 "
      ]
     },
     "metadata": {},
     "output_type": "display_data"
    }
   ],
   "source": [
    "table(train_selected_df$label) / length(train_selected_df$label)\n",
    "table(valid_selected_df$label) / length(valid_selected_df$label)"
   ]
  },
  {
   "cell_type": "code",
   "execution_count": 31,
   "metadata": {},
   "outputs": [],
   "source": [
    "library(xgboost)\n",
    "labels <- train_selected_df$label \n",
    "vl_label <- valid_selected_df$label\n",
    "new_tr <- model.matrix(~.+0,data = train_selected_df[, !names(train_selected_df) %in% c(\"protein\", \"label\")]) \n",
    "new_vl <- model.matrix(~.+0,data = valid_selected_df[, !names(valid_selected_df) %in% c(\"protein\", \"label\")])\n",
    "new_ts <- model.matrix(~.+0,data = test_selected[,!names(test_selected) %in% c(\"protein\")])\n",
    "labels <- as.numeric(labels) - 1\n",
    "vl_label <- as.numeric(vl_label) - 1\n",
    "dtrain <- xgb.DMatrix(data = new_tr,label = labels) \n",
    "dvalid <- xgb.DMatrix(data = new_vl,label= vl_label)\n",
    "dtest <- xgb.DMatrix(data = new_ts)\n",
    "params = list(\n",
    "  booster=\"gbtree\",\n",
    "  eta=0.1,\n",
    "  max_depth=7,\n",
    "  gamma=1,\n",
    "  subsample=0.7,\n",
    "  colsample_bytree=0.8,\n",
    "  objective=\"multi:softprob\",\n",
    "  eval_metric=\"mlogloss\",\n",
    "  num_class=15\n",
    ")\n",
    "xgb1 <- xgb.train (params = params, data = dtrain, nrounds = 2000, verbose = 0)"
   ]
  },
  {
   "cell_type": "code",
   "execution_count": 32,
   "metadata": {},
   "outputs": [
    {
     "data": {
      "text/html": [
       "0.826254826254826"
      ],
      "text/latex": [
       "0.826254826254826"
      ],
      "text/markdown": [
       "0.826254826254826"
      ],
      "text/plain": [
       "[1] 0.8262548"
      ]
     },
     "metadata": {},
     "output_type": "display_data"
    },
    {
     "data": {
      "text/plain": [
       "\n",
       "  0   1   2   3   4   5   6   7   8   9 \n",
       "118  68  18  17  13  15   5   2   1   2 "
      ]
     },
     "metadata": {},
     "output_type": "display_data"
    },
    {
     "name": "stderr",
     "output_type": "stream",
     "text": [
      "Warning message in levels(reference) != levels(data):\n",
      "“longer object length is not a multiple of shorter object length”\n",
      "Warning message in confusionMatrix.default(factor(predicted), factor(valid_selected_df$label)):\n",
      "“Levels are not in the same order for reference and data. Refactoring data to match.”\n"
     ]
    },
    {
     "data": {
      "text/plain": [
       "Confusion Matrix and Statistics\n",
       "\n",
       "          Reference\n",
       "Prediction   0   1   2   3   4   5   6   7   8   9  10  11  12\n",
       "        0  107   3   3   2   0   1   0   0   0   0   1   0   1\n",
       "        1    3  48   6   0   3   2   1   0   1   2   1   1   0\n",
       "        2    3   0  14   0   0   0   1   0   0   0   0   0   0\n",
       "        3    1   1   0  15   0   0   0   0   0   0   0   0   0\n",
       "        4    0   1   0   1  11   0   0   0   0   0   0   0   0\n",
       "        5    1   1   1   0   1  11   0   0   0   0   0   0   0\n",
       "        6    0   0   0   0   0   0   4   0   1   0   0   0   0\n",
       "        7    0   0   0   0   0   0   0   2   0   0   0   0   0\n",
       "        8    0   0   0   0   0   0   0   0   1   0   0   0   0\n",
       "        9    0   0   0   0   0   0   0   0   0   1   1   0   0\n",
       "        10   0   0   0   0   0   0   0   0   0   0   0   0   0\n",
       "        11   0   0   0   0   0   0   0   0   0   0   0   0   0\n",
       "        12   0   0   0   0   0   0   0   0   0   0   0   0   0\n",
       "\n",
       "Overall Statistics\n",
       "                                          \n",
       "               Accuracy : 0.8263          \n",
       "                 95% CI : (0.7745, 0.8704)\n",
       "    No Information Rate : 0.444           \n",
       "    P-Value [Acc > NIR] : < 2.2e-16       \n",
       "                                          \n",
       "                  Kappa : 0.7604          \n",
       "                                          \n",
       " Mcnemar's Test P-Value : NA              \n",
       "\n",
       "Statistics by Class:\n",
       "\n",
       "                     Class: 0 Class: 1 Class: 2 Class: 3 Class: 4 Class: 5\n",
       "Sensitivity            0.9304   0.8889  0.58333  0.83333  0.73333  0.78571\n",
       "Specificity            0.9236   0.9024  0.98298  0.99170  0.99180  0.98367\n",
       "Pos Pred Value         0.9068   0.7059  0.77778  0.88235  0.84615  0.73333\n",
       "Neg Pred Value         0.9433   0.9686  0.95851  0.98760  0.98374  0.98770\n",
       "Prevalence             0.4440   0.2085  0.09266  0.06950  0.05792  0.05405\n",
       "Detection Rate         0.4131   0.1853  0.05405  0.05792  0.04247  0.04247\n",
       "Detection Prevalence   0.4556   0.2625  0.06950  0.06564  0.05019  0.05792\n",
       "Balanced Accuracy      0.9270   0.8957  0.78316  0.91252  0.86257  0.88469\n",
       "                     Class: 6 Class: 7 Class: 8 Class: 9 Class: 10 Class: 11\n",
       "Sensitivity           0.66667 1.000000 0.333333 0.333333   0.00000  0.000000\n",
       "Specificity           0.99605 1.000000 1.000000 0.996094   1.00000  1.000000\n",
       "Pos Pred Value        0.80000 1.000000 1.000000 0.500000       NaN       NaN\n",
       "Neg Pred Value        0.99213 1.000000 0.992248 0.992218   0.98842  0.996139\n",
       "Prevalence            0.02317 0.007722 0.011583 0.011583   0.01158  0.003861\n",
       "Detection Rate        0.01544 0.007722 0.003861 0.003861   0.00000  0.000000\n",
       "Detection Prevalence  0.01931 0.007722 0.003861 0.007722   0.00000  0.000000\n",
       "Balanced Accuracy     0.83136 1.000000 0.666667 0.664714   0.50000  0.500000\n",
       "                     Class: 12\n",
       "Sensitivity           0.000000\n",
       "Specificity           1.000000\n",
       "Pos Pred Value             NaN\n",
       "Neg Pred Value        0.996139\n",
       "Prevalence            0.003861\n",
       "Detection Rate        0.000000\n",
       "Detection Prevalence  0.000000\n",
       "Balanced Accuracy     0.500000"
      ]
     },
     "metadata": {},
     "output_type": "display_data"
    }
   ],
   "source": [
    "library(caret)\n",
    "xgb.valid = predict(xgb1, dvalid ,reshape=T)\n",
    "xgb.valid = as.data.frame(xgb.valid)\n",
    "colnames(xgb.valid) = levels(train_selected$label)\n",
    "xgb.valid$prediction = apply(xgb.valid,1,function(x) colnames(xgb.valid)[which.max(x)])\n",
    "xgb.valid$prediction = as.numeric(xgb.valid$prediction)\n",
    "accu <- xgb.valid$prediction == valid_selected_df$label\n",
    "sum(accu) / length(accu)\n",
    "table(xgb.valid$prediction) \n",
    "predicted <- xgb.valid$prediction\n",
    "confusionMatrix(factor(predicted), factor(valid_selected_df$label))\n",
    "# accuracy_per_label <- function(label){\n",
    "#     accu_l_0 <- valid_selected_df$label == label\n",
    "#     accu_l_0 <- predicted[accu_l_0] == label\n",
    "#     print(sum(accu_l_0) / length(accu_l_0))\n",
    "# }\n",
    "# for (i in levels(valid_selected_df$label)){\n",
    "#     accuracy_per_label(i)\n",
    "# }   "
   ]
  },
  {
   "cell_type": "code",
   "execution_count": 8,
   "metadata": {},
   "outputs": [
    {
     "data": {
      "text/plain": [
       "\n",
       "          0           1           2           3           4           5 \n",
       "0.456692913 0.270341207 0.097112861 0.062992126 0.026246719 0.044619423 \n",
       "          6           7           8           9 \n",
       "0.028871391 0.002624672 0.007874016 0.002624672 "
      ]
     },
     "metadata": {},
     "output_type": "display_data"
    }
   ],
   "source": [
    "xgb.pred = predict(xgb1, dtest,reshape=T)\n",
    "xgb.pred = as.data.frame(xgb.pred)\n",
    "colnames(xgb.pred) = levels(train_selected$label)\n",
    "xgb.pred$prediction = apply(xgb.pred,1,function(x) colnames(xgb.pred)[which.max(x)])\n",
    "xgb.pred$prediction = as.numeric(xgb.pred$prediction)\n",
    "table(xgb.pred$prediction) / length(xgb.pred$prediction)                            "
   ]
  },
  {
   "cell_type": "code",
   "execution_count": 39,
   "metadata": {},
   "outputs": [],
   "source": [
    "test_selected$label <- xgb.pred$prediction"
   ]
  },
  {
   "cell_type": "code",
   "execution_count": 40,
   "metadata": {},
   "outputs": [],
   "source": [
    "result_agg <- data.frame(Key=test_selected$protein, Label=test_selected$label)\n",
    "write.csv(result_agg,'./result/result_last.csv', row.names = FALSE, quote=FALSE)"
   ]
  },
  {
   "cell_type": "code",
   "execution_count": null,
   "metadata": {},
   "outputs": [],
   "source": [
    "# params = list(\n",
    "#   booster=\"gbtree\",\n",
    "#   eta=0.01,\n",
    "#   max_depth=5,\n",
    "#   gamma=3,\n",
    "#   subsample=0.75,\n",
    "#   colsample_bytree=1,\n",
    "#   objective=\"multi:softprob\",\n",
    "#   eval_metric=\"mlogloss\",\n",
    "#   num_class=15\n",
    "# )\n",
    "# xgbcv <- xgb.cv(params = params, nrounds = 1000, data = dtrain, nfold = 10, early_stopping_rounds = 20)\n",
    "\n",
    "\n",
    "\n",
    "# searchGridSubCol <- expand.grid(subsample = c(0.7, 0.8), \n",
    "#                                 colsample_bytree = c(0.5, 0.8, 1),\n",
    "#                                 max_depth = c(3, 4, 5),\n",
    "#                                 min_child = seq(1), \n",
    "#                                 eta = c(0.1, 0.01, 0.001)\n",
    "# )\n",
    "\n",
    "# ntrees <- 1000   \n",
    "\n",
    "# system.time(\n",
    "# rmseErrorsHyperparameters <- apply(searchGridSubCol, 1, function(parameterList){\n",
    "  \n",
    "#   #Extract Parameters to test\n",
    "#   currentSubsampleRate <- parameterList[[\"subsample\"]]\n",
    "#   currentColsampleRate <- parameterList[[\"colsample_bytree\"]]\n",
    "#   currentDepth <- parameterList[[\"max_depth\"]]\n",
    "#   currentEta <- parameterList[[\"eta\"]]\n",
    "#   currentMinChild <- parameterList[[\"min_child\"]]\n",
    "#   xgboostModelCV <- xgb.cv(data =  dtrain, nrounds = ntrees, nfold = 5, showsd = TRUE,  verbose = TRUE,\n",
    "#                      eval_metric=\"mlogloss\", \"max.depth\" = currentDepth, \"eta\" = currentEta,                               \n",
    "#                      \"subsample\" = currentSubsampleRate, \"colsample_bytree\" = currentColsampleRate\n",
    "#                       , print_every_n = 100, \"min_child_weight\" = currentMinChild, booster = \"gbtree\",\n",
    "#                      early_stopping_rounds = 10, num_class = 15)\n",
    "#   xvalidationScores <- min(xgboostModelCV$evaluation_log[, 'test_mlogloss_mean'])\n",
    "#   output <- return(c(xvalidationScores, currentSubsampleRate, currentColsampleRate, currentDepth, currentEta, currentMinChild))}))"
   ]
  }
 ],
 "metadata": {
  "kernelspec": {
   "display_name": "R",
   "language": "R",
   "name": "ir"
  },
  "language_info": {
   "codemirror_mode": "r",
   "file_extension": ".r",
   "mimetype": "text/x-r-source",
   "name": "R",
   "pygments_lexer": "r",
   "version": "4.0.2"
  }
 },
 "nbformat": 4,
 "nbformat_minor": 4
}
