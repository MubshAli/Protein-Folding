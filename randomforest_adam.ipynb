{
 "cells": [
  {
   "cell_type": "code",
   "execution_count": 181,
   "metadata": {},
   "outputs": [],
   "source": [
    "train = read.csv('./Stat441_KaggleProject/train_selected_adam.csv', header=TRUE)\n",
    "test = read.csv('./Stat441_KaggleProject/test_selected_adam.csv', header=TRUE)\n",
    "\n",
    "train$essential[train$essential == 0] <- 1\n",
    "test$essential[test$essential == 0] <- 3\n",
    "test$essential[test$essential == 1] <- 2\n",
    "test$essential[test$essential == 2] <- 1\n",
    "test$essential[test$essential == 3] <- 2\n",
    "\n",
    "cont_cols = c(sapply(seq(45, 57), function(x) {paste(\"X4\", toString(x), sep='')}), 'correlation', 'protein', 'chromosome')\n",
    "# binary_cols = c('X94','X95','X96','X97','X298', 'X307', 'X342')\n",
    "# num_cols = c(cont_cols, binary_cols)\n",
    "num_cols = c(cont_cols)\n",
    "train[, !names(train) %in% num_cols] <- lapply(train[, !names(train) %in% num_cols], as.factor)\n",
    "test[, !names(test) %in% num_cols] <- lapply(test[, !names(test) %in% num_cols], as.factor)\n",
    "# train$binarysum <- rowSums(train[binary_cols])\n",
    "# train <- train[, !names(train) %in% binary_cols]\n",
    "# test$binarysum <- rowSums(test[binary_cols])\n",
    "# test <- test[, !names(test) %in% binary_cols]\n",
    "\n",
    "train_size <- floor(0.7 * nrow(train))\n",
    "train_ind <- sample(seq_len(nrow(train)), size = train_size, replace = FALSE)\n",
    "valid_ind <- seq_len(nrow(train))[-train_ind]\n",
    "train_ind <- sample(seq_len(length(train_ind)), size = floor(1.5 * train_size), replace = TRUE)\n",
    "train_df <- train[train_ind, ]\n",
    "valid_df <- train[valid_ind, ]\n",
    "train_df$label <- factor(train_df$label)"
   ]
  },
  {
   "cell_type": "code",
   "execution_count": 182,
   "metadata": {},
   "outputs": [],
   "source": [
    "library(randomForest)\n",
    "rf_clf <-  randomForest(label ~ . - protein, data = train_df, ntrees=3140)"
   ]
  },
  {
   "cell_type": "code",
   "execution_count": 183,
   "metadata": {},
   "outputs": [
    {
     "data": {
      "text/html": [
       "0.850253807106599"
      ],
      "text/latex": [
       "0.850253807106599"
      ],
      "text/markdown": [
       "0.850253807106599"
      ],
      "text/plain": [
       "[1] 0.8502538"
      ]
     },
     "metadata": {},
     "output_type": "display_data"
    }
   ],
   "source": [
    "valid_preds <- predict(rf_clf, valid_df)\n",
    "valid_preds <- factor(valid_preds, levels=levels(valid_df$label))\n",
    "valid_l <- valid_preds == valid_df$label\n",
    "sum(valid_l) / length(valid_l)"
   ]
  },
  {
   "cell_type": "code",
   "execution_count": 184,
   "metadata": {},
   "outputs": [
    {
     "data": {
      "text/plain": [
       "test_preds\n",
       "           0            1            2            3            4            5 \n",
       "0.5194312796 0.2729857820 0.0094786730 0.1308056872 0.0000000000 0.0123222749 \n",
       "           6            7            8            9           10           11 \n",
       "0.0530805687 0.0009478673 0.0000000000 0.0000000000 0.0009478673 0.0000000000 \n",
       "          13 \n",
       "0.0000000000 "
      ]
     },
     "metadata": {},
     "output_type": "display_data"
    }
   ],
   "source": [
    "for (i in colnames(test)){\n",
    "    n1 = levels(test[, i])\n",
    "    n2 = levels(train[, i])\n",
    "    if (length(n1) != length(n2) || sum(n1 != n2)){\n",
    "#         print(i)\n",
    "#         print(levels(test[, i]))\n",
    "#         print(levels(train[, i]))\n",
    "        test[, i] <- factor(test[, i], levels = levels(train[, i]))\n",
    "    }\n",
    "}\n",
    "\n",
    "test_preds <- predict(rf_clf, test)\n",
    "test$label <- test_preds\n",
    "table(test_preds) / length(test_preds)"
   ]
  },
  {
   "cell_type": "code",
   "execution_count": 185,
   "metadata": {},
   "outputs": [
    {
     "data": {
      "text/plain": [
       "\n",
       "          0           1          10           2           3           5 \n",
       "0.503937008 0.362204724 0.002624672 0.023622047 0.073490814 0.013123360 \n",
       "          6           7 \n",
       "0.018372703 0.002624672 "
      ]
     },
     "metadata": {},
     "output_type": "display_data"
    }
   ],
   "source": [
    "result <- data.frame(\"protein\" = test$protein, \"label\" = test$label)\n",
    "result_agg <- aggregate(result,\n",
    "                by = list(result$protein),\n",
    "                FUN = function(x) tail(names(sort(table(x))), 1))\n",
    "result_agg <- data.frame(\"protein\" = result_agg$protein, \"label\" = result_agg$label)\n",
    "table(result_agg$label) / length(result_agg$label)"
   ]
  },
  {
   "cell_type": "code",
   "execution_count": 195,
   "metadata": {},
   "outputs": [],
   "source": [
    "colnames(result_agg) <- c('Key', 'Label')\n",
    "write.csv(result_agg,'./result_Mar31.csv', row.names = FALSE, quote=FALSE)"
   ]
  },
  {
   "cell_type": "code",
   "execution_count": null,
   "metadata": {},
   "outputs": [],
   "source": []
  }
 ],
 "metadata": {
  "kernelspec": {
   "display_name": "R",
   "language": "R",
   "name": "ir"
  },
  "language_info": {
   "codemirror_mode": "r",
   "file_extension": ".r",
   "mimetype": "text/x-r-source",
   "name": "R",
   "pygments_lexer": "r",
   "version": "4.0.2"
  }
 },
 "nbformat": 4,
 "nbformat_minor": 4
}
