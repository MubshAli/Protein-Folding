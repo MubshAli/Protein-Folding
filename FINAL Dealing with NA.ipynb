{
 "cells": [
  {
   "cell_type": "markdown",
   "metadata": {},
   "source": [
    "# Statistics for Missing Data\n",
    "\n",
    "## Train Data (No NA in both columns):\n",
    "\n",
    "### Essential Column - 44 NA\n",
    "### Chromosome - 1 NA\n",
    "\n",
    "## Total Incomplete records -> 45 -> 45/863 -> 5.21%\n",
    "\n",
    "\n",
    "\n",
    "## Test Data (2 records with NA in both Columns):\n",
    "\n",
    "### Essential Column - 17 NA\n",
    "### Chromosome - 59 NA\n",
    "\n",
    "## Total Incomplete records -> 74 -> 74/382 -> 19.37%"
   ]
  },
  {
   "cell_type": "markdown",
   "metadata": {},
   "source": [
    "# Methods for dealing with NA's\n",
    "\n",
    "## MissForest, uses a random forest to predict values for the NA values, going column by column\n",
    "\n",
    "# NOTE NEED TO DISCUSS THAT WE NEED TO USE BOTH TRAIN AND TEST DATA AT SAME TIME WHEN REPLACING NA's SINCE SAME METHOD SHOULD BE USED FOR BOTH"
   ]
  },
  {
   "cell_type": "code",
   "execution_count": 81,
   "metadata": {},
   "outputs": [],
   "source": [
    "# Install a pip package in the current Jupyter kernel\n",
    "#import sys\n",
    "#!{sys.executable} -m pip install missingpy\n",
    "\n",
    "import os\n",
    "\n",
    "import re\n",
    "\n",
    "import pandas as pd\n",
    "\n",
    "from IPython.display import display\n",
    "\n",
    "from missingpy import MissForest\n",
    "\n",
    "\n",
    "\n",
    "os.chdir(r'D:\\Documents\\WATERLOO\\3B\\STAT 441\\protein-localization')\n",
    "\n",
    "# Get Column labels from Description file\n",
    "\n",
    "description = pd.read_csv (r'D:\\Documents\\WATERLOO\\3B\\STAT 441\\protein-localization\\field_descriptions.txt', \n",
    "                           sep='\\t', lineterminator='\\n', header = None)\n",
    "\n",
    "col_labels = description[0]\n",
    "\n",
    "def clean_labels(label):\n",
    "    label = re.sub(' +', ' ',label)\n",
    "    label = re.sub(':', '',label)\n",
    "    return \"\".join(label.rstrip().lstrip())\n",
    "\n",
    "col_labels = col_labels.apply(clean_labels)\n",
    "\n",
    "\n",
    "\n",
    "# Import Data\n",
    "train = pd.read_csv (r'D:\\Documents\\WATERLOO\\3B\\STAT 441\\protein-localization\\train.csv', header=None,names = col_labels,na_values='?')\n",
    "\n",
    "test = pd.read_csv (r'D:\\Documents\\WATERLOO\\3B\\STAT 441\\protein-localization\\test.csv', header=None,names = col_labels,na_values='?')\n",
    "\n",
    "\n",
    "# Find Column numbers for the Interaction Columns\n",
    "begin_interact = train.columns.get_loc(\"INTERACTING PROTEIN P239476 Type\") \n",
    "end_interact = train.columns.get_loc(\"INTERACTING PROTEIN P235069 Corr\")\n",
    "\n",
    "\n",
    "# Generate seperate data sets for different situations\\\n",
    "\n",
    "# Without Interaction Columns\n",
    "TEST_Data_1 = test.drop(test.iloc[:, begin_interact:end_interact+1], inplace = False, axis = 1)\n",
    "\n",
    "TRAIN_Data_1 = train.drop(train.iloc[:, begin_interact:end_interact+1], inplace = False, axis = 1)\n",
    "\n",
    "\n",
    "# Without Interaction Columns, last 15 solution columns\n",
    "TEST_Data_2 =  TEST_Data_1.iloc[:, :-16]\n",
    "\n",
    "TRAIN_Data_2 =  TRAIN_Data_1.iloc[:, :-16]\n",
    "\n",
    "\n",
    "# Without Interaction Columns, last 15 solution columns,442 binary columns\n",
    "TEST_Data_3 = TEST_Data_2.drop(\n",
    "    TEST_Data_2.iloc[:, 2:444], inplace = False, axis = 1)\n",
    "\n",
    "TRAIN_Data_3 = TRAIN_Data_2.drop(\n",
    "    TRAIN_Data_2.iloc[:, 2:444], inplace = False, axis = 1)\n"
   ]
  },
  {
   "cell_type": "code",
   "execution_count": 82,
   "metadata": {},
   "outputs": [],
   "source": [
    "# Encoding for dealing with Essential column\n",
    "essential_encode = {\"ESSENTIAL\":     {\"Essential\": 1, \"Non-Essential\": 2,\"Ambiguous-Essential\": 3}}\n",
    "reverse_essential_encode = {\"ESSENTIAL\":     {1: \"Essential\", 2: \"Non-Essential\",3: \"Ambiguous-Essential\"}}"
   ]
  },
  {
   "cell_type": "code",
   "execution_count": 83,
   "metadata": {},
   "outputs": [
    {
     "name": "stdout",
     "output_type": "stream",
     "text": [
      "Iteration: 0\n",
      "Iteration: 1\n",
      "Iteration: 2\n"
     ]
    }
   ],
   "source": [
    "#Create a data frame relabelling the categorical variables\n",
    "X = TRAIN_Data_3.drop('Protein', axis=1)\n",
    "X = X.replace(essential_encode)\n",
    "X[\"ESSENTIAL\"] = X.ESSENTIAL.astype('category')\n",
    "X[\"Chromosome\"] = X.Chromosome.astype('category')\n",
    "\n",
    "#Find index of the categorical variables\n",
    "cat_cols = [X.columns.get_loc(col) for col in X.select_dtypes(['category']).columns.tolist()]\n",
    "\n",
    "#Set random_state of MissForest\n",
    "imputer = MissForest(random_state=123)\n",
    "\n",
    "#Use MissForest and the categorical variables to fill in NA values\n",
    "X_imputed = imputer.fit_transform(X,cat_vars=cat_cols)"
   ]
  },
  {
   "cell_type": "code",
   "execution_count": 86,
   "metadata": {},
   "outputs": [],
   "source": [
    "Complete_train= TRAIN_Data_1.copy()\n",
    "Complete_train[\"ESSENTIAL\"] = X_imputed[:,0].astype(int)\n",
    "Complete_train = Complete_train.replace(reverse_essential_encode)\n",
    "Complete_train[\"Chromosome\"] =X_imputed[:,1].astype(int)"
   ]
  },
  {
   "cell_type": "code",
   "execution_count": 89,
   "metadata": {
    "scrolled": true
   },
   "outputs": [
    {
     "data": {
      "text/plain": [
       "45"
      ]
     },
     "metadata": {},
     "output_type": "display_data"
    },
    {
     "data": {
      "text/plain": [
       "0"
      ]
     },
     "metadata": {},
     "output_type": "display_data"
    }
   ],
   "source": [
    "display(TRAIN_Data_1.isna().sum().sum())\n",
    "display(Complete_train.isna().sum().sum())"
   ]
  },
  {
   "cell_type": "code",
   "execution_count": 80,
   "metadata": {},
   "outputs": [],
   "source": [
    "Complete_train.to_csv(r'D:\\Documents\\WATERLOO\\3B\\STAT 441\\protein-localization\\TESTING_REPLACE.csv', index = False)"
   ]
  }
 ],
 "metadata": {
  "kernelspec": {
   "display_name": "Python 3",
   "language": "python",
   "name": "python3"
  },
  "language_info": {
   "codemirror_mode": {
    "name": "ipython",
    "version": 3
   },
   "file_extension": ".py",
   "mimetype": "text/x-python",
   "name": "python",
   "nbconvert_exporter": "python",
   "pygments_lexer": "ipython3",
   "version": "3.8.5"
  }
 },
 "nbformat": 4,
 "nbformat_minor": 4
}
